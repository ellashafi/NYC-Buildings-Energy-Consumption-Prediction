{
 "cells": [
  {
   "cell_type": "code",
   "execution_count": 1,
   "metadata": {},
   "outputs": [],
   "source": [
    "import os\n",
    "import pandas as pd\n",
    "import numpy as np\n",
    "import matplotlib.pyplot as plt\n",
    "import seaborn as sns\n",
    "import pickle\n",
    "\n",
    "from sklearn import metrics\n",
    "from sklearn.linear_model import LinearRegression, Ridge, RidgeCV, Lasso, LassoCV\n",
    "from sklearn.model_selection import train_test_split, cross_val_score, GridSearchCV\n",
    "from sklearn.preprocessing import StandardScaler, PolynomialFeatures, OneHotEncoder, FunctionTransformer\n",
    "from sklearn.compose import ColumnTransformer\n",
    "from sklearn.ensemble import RandomForestRegressor, ExtraTreesRegressor\n",
    "\n",
    "pd.set_option('display.max_rows', 500)\n",
    "pd.set_option('display.max_columns', 500)\n",
    "pd.set_option('display.width', 1000)\n"
   ]
  },
  {
   "cell_type": "code",
   "execution_count": 2,
   "metadata": {},
   "outputs": [],
   "source": [
    "def log_plus_one(x):\n",
    "    return np.log(x+1)"
   ]
  },
  {
   "cell_type": "code",
   "execution_count": 33,
   "metadata": {},
   "outputs": [],
   "source": [
    "df = pd.read_csv('../data/nyc_bldg2021_model_ready.csv')\n",
    "\n",
    "with open(\"X_train_ct.pickle\", \"rb\") as f:\n",
    "    X_train_ct = pickle.load(f)\n",
    "\n",
    "with open(\"y_train.pickle\", \"rb\") as f:\n",
    "    y_train = pickle.load(f)\n",
    "\n",
    "with open(\"X_test_ct.pickle\", \"rb\") as f:\n",
    "    X_test_ct = pickle.load(f)\n",
    "\n",
    "with open(\"y_test.pickle\", \"rb\") as f:\n",
    "    y_test = pickle.load(f)\n",
    "\n",
    "with open(\"one_hot_encoder.pickle\", \"rb\") as f:\n",
    "    oh = pickle.load(f)"
   ]
  },
  {
   "attachments": {},
   "cell_type": "markdown",
   "metadata": {},
   "source": [
    "# Linear Regression"
   ]
  },
  {
   "cell_type": "code",
   "execution_count": 34,
   "metadata": {},
   "outputs": [
    {
     "name": "stdout",
     "output_type": "stream",
     "text": [
      "Training R2 = 0.8215567053590463\n",
      "Testing R2 = 0.8112429671749377\n"
     ]
    }
   ],
   "source": [
    "lr = LinearRegression()\n",
    "lr.fit(X_train_ct, y_train)\n",
    "k = 10\n",
    "print(f\"Training R2 = {lr.score(X_train_ct, y_train)}\")\n",
    "print(f\"Testing R2 = {lr.score(X_test_ct, y_test)}\")"
   ]
  },
  {
   "cell_type": "code",
   "execution_count": 35,
   "metadata": {},
   "outputs": [],
   "source": [
    "with open(\"lr_model.pickle\", \"wb\") as f:\n",
    "    pickle.dump(lr, f)"
   ]
  },
  {
   "cell_type": "code",
   "execution_count": 36,
   "metadata": {},
   "outputs": [
    {
     "data": {
      "text/plain": [
       "array([-5.07208850e+03,  8.23652829e+03,  2.50283057e+03, -4.56413081e+02,\n",
       "        2.57513923e+03,  1.26115093e+03, -7.05832198e+02, -4.49059047e+02,\n",
       "        2.54778224e+03, -2.57886738e+03, -1.80323234e+03,  3.88619916e+02,\n",
       "       -1.04618219e+03,  2.65233649e+01, -4.53261024e+00,  2.11064122e+02,\n",
       "        2.32563143e+01,  6.13935760e+01, -6.23293624e+02,  1.47132227e+02,\n",
       "        1.94398533e+02, -5.37880613e+03,  7.65136315e+02, -3.97970224e+01,\n",
       "        3.25721487e+00, -2.03490576e+02, -3.09711702e+01, -8.27976560e+01,\n",
       "        1.81547034e+03, -2.54883822e+02, -3.07422529e+02,  9.70847621e+03,\n",
       "        1.44434959e+01,  2.85556485e+00,  1.07385036e+02,  5.38509906e+00,\n",
       "        8.55031714e+00, -2.56728898e+03,  3.58860109e+00,  1.28073542e+01,\n",
       "        5.18625783e+01, -1.35215385e+00,  1.12262752e+01,  1.02211484e+00,\n",
       "       -8.88760614e-01,  1.95018783e+02, -1.20319356e+00,  9.62345134e-01,\n",
       "       -2.50127901e+02, -2.08226657e+02,  1.12008923e+02, -1.59838279e+01,\n",
       "       -7.71024999e+02,  1.47079876e+01,  1.08896699e+02,  1.59641517e+03,\n",
       "        3.63058992e+00,  2.39226430e+00, -2.27250352e+03,  5.08012317e+00,\n",
       "        4.82520744e+00, -8.71927598e+02, -1.51928363e-01,  1.97079768e+02,\n",
       "       -5.49573058e-02,  1.80299879e+01, -5.24324342e+02, -5.43807450e+01,\n",
       "       -2.53264603e+02, -2.04884605e+03, -5.73345146e+02,  4.24692060e-01,\n",
       "        8.42180756e+01,  2.31637177e+03,  4.98748940e+01, -4.48711596e+03,\n",
       "       -1.95924237e+03, -3.31366038e-01,  3.26944372e+00,  2.72007154e+00,\n",
       "        1.30313375e+01, -4.19658400e-01,  6.31731397e-01,  4.37064153e+00,\n",
       "       -1.05481009e+00, -1.19178403e+00, -1.15031640e+01, -1.18683145e+00,\n",
       "        3.55293142e+00, -6.81153121e+00, -5.25215506e+00, -1.63503299e+02,\n",
       "        3.24991452e+01, -6.85019121e-01,  9.69243018e-01,  2.21217071e+00,\n",
       "        1.47998996e+00])"
      ]
     },
     "execution_count": 36,
     "metadata": {},
     "output_type": "execute_result"
    }
   ],
   "source": [
    "lr.coef_"
   ]
  },
  {
   "attachments": {},
   "cell_type": "markdown",
   "metadata": {},
   "source": [
    "# Ridge Model"
   ]
  },
  {
   "cell_type": "code",
   "execution_count": 37,
   "metadata": {},
   "outputs": [
    {
     "name": "stdout",
     "output_type": "stream",
     "text": [
      "0.7954810379077157\n",
      "0.8244151567596019\n"
     ]
    }
   ],
   "source": [
    "# Instantiate.\n",
    "ridge_model = Ridge(alpha=10)\n",
    "\n",
    "# Fit.\n",
    "ridge_model.fit(X_train_ct, y_train)\n",
    "\n",
    "# Evaluate model using R2.\n",
    "print(ridge_model.score(X_train_ct, y_train))\n",
    "print(ridge_model.score(X_test_ct, y_test))"
   ]
  },
  {
   "cell_type": "code",
   "execution_count": 38,
   "metadata": {},
   "outputs": [
    {
     "data": {
      "text/html": [
       "<style>#sk-container-id-2 {color: black;background-color: white;}#sk-container-id-2 pre{padding: 0;}#sk-container-id-2 div.sk-toggleable {background-color: white;}#sk-container-id-2 label.sk-toggleable__label {cursor: pointer;display: block;width: 100%;margin-bottom: 0;padding: 0.3em;box-sizing: border-box;text-align: center;}#sk-container-id-2 label.sk-toggleable__label-arrow:before {content: \"▸\";float: left;margin-right: 0.25em;color: #696969;}#sk-container-id-2 label.sk-toggleable__label-arrow:hover:before {color: black;}#sk-container-id-2 div.sk-estimator:hover label.sk-toggleable__label-arrow:before {color: black;}#sk-container-id-2 div.sk-toggleable__content {max-height: 0;max-width: 0;overflow: hidden;text-align: left;background-color: #f0f8ff;}#sk-container-id-2 div.sk-toggleable__content pre {margin: 0.2em;color: black;border-radius: 0.25em;background-color: #f0f8ff;}#sk-container-id-2 input.sk-toggleable__control:checked~div.sk-toggleable__content {max-height: 200px;max-width: 100%;overflow: auto;}#sk-container-id-2 input.sk-toggleable__control:checked~label.sk-toggleable__label-arrow:before {content: \"▾\";}#sk-container-id-2 div.sk-estimator input.sk-toggleable__control:checked~label.sk-toggleable__label {background-color: #d4ebff;}#sk-container-id-2 div.sk-label input.sk-toggleable__control:checked~label.sk-toggleable__label {background-color: #d4ebff;}#sk-container-id-2 input.sk-hidden--visually {border: 0;clip: rect(1px 1px 1px 1px);clip: rect(1px, 1px, 1px, 1px);height: 1px;margin: -1px;overflow: hidden;padding: 0;position: absolute;width: 1px;}#sk-container-id-2 div.sk-estimator {font-family: monospace;background-color: #f0f8ff;border: 1px dotted black;border-radius: 0.25em;box-sizing: border-box;margin-bottom: 0.5em;}#sk-container-id-2 div.sk-estimator:hover {background-color: #d4ebff;}#sk-container-id-2 div.sk-parallel-item::after {content: \"\";width: 100%;border-bottom: 1px solid gray;flex-grow: 1;}#sk-container-id-2 div.sk-label:hover label.sk-toggleable__label {background-color: #d4ebff;}#sk-container-id-2 div.sk-serial::before {content: \"\";position: absolute;border-left: 1px solid gray;box-sizing: border-box;top: 0;bottom: 0;left: 50%;z-index: 0;}#sk-container-id-2 div.sk-serial {display: flex;flex-direction: column;align-items: center;background-color: white;padding-right: 0.2em;padding-left: 0.2em;position: relative;}#sk-container-id-2 div.sk-item {position: relative;z-index: 1;}#sk-container-id-2 div.sk-parallel {display: flex;align-items: stretch;justify-content: center;background-color: white;position: relative;}#sk-container-id-2 div.sk-item::before, #sk-container-id-2 div.sk-parallel-item::before {content: \"\";position: absolute;border-left: 1px solid gray;box-sizing: border-box;top: 0;bottom: 0;left: 50%;z-index: -1;}#sk-container-id-2 div.sk-parallel-item {display: flex;flex-direction: column;z-index: 1;position: relative;background-color: white;}#sk-container-id-2 div.sk-parallel-item:first-child::after {align-self: flex-end;width: 50%;}#sk-container-id-2 div.sk-parallel-item:last-child::after {align-self: flex-start;width: 50%;}#sk-container-id-2 div.sk-parallel-item:only-child::after {width: 0;}#sk-container-id-2 div.sk-dashed-wrapped {border: 1px dashed gray;margin: 0 0.4em 0.5em 0.4em;box-sizing: border-box;padding-bottom: 0.4em;background-color: white;}#sk-container-id-2 div.sk-label label {font-family: monospace;font-weight: bold;display: inline-block;line-height: 1.2em;}#sk-container-id-2 div.sk-label-container {text-align: center;}#sk-container-id-2 div.sk-container {/* jupyter's `normalize.less` sets `[hidden] { display: none; }` but bootstrap.min.css set `[hidden] { display: none !important; }` so we also need the `!important` here to be able to override the default hidden behavior on the sphinx rendered scikit-learn.org. See: https://github.com/scikit-learn/scikit-learn/issues/21755 */display: inline-block !important;position: relative;}#sk-container-id-2 div.sk-text-repr-fallback {display: none;}</style><div id=\"sk-container-id-2\" class=\"sk-top-container\"><div class=\"sk-text-repr-fallback\"><pre>RidgeCV(alphas=array([   1.25892541,    1.34676844,    1.44074081,    1.54127022,\n",
       "          1.64881419,    1.76386217,    1.88693776,    2.0186011 ,\n",
       "          2.1594514 ,    2.3101297 ,    2.47132176,    2.64376119,\n",
       "          2.82823278,    3.0255761 ,    3.23668929,    3.46253315,\n",
       "          3.70413553,    3.96259601,    4.23909088,    4.53487851,\n",
       "          4.85130507,    5.18981068,    5.55193591,    5.93932887,\n",
       "          6.35375264,    6.79709332,    7.27136862,    7.77873705,\n",
       "          8.32150772,    8.90215085,    9....\n",
       "        161.84187792,  173.13458823,  185.21526088,  198.1388769 ,\n",
       "        211.96425366,  226.75431259,  242.57636554,  259.50242114,\n",
       "        277.60951248,  296.98004774,  317.70218523,  339.87023462,\n",
       "        363.58508612,  388.9546697 ,  416.09444628,  445.12793318,\n",
       "        476.1872663 ,  509.41380148,  544.95875783,  582.98390597,\n",
       "        623.66230422,  667.17908629,  713.7323038 ,  763.53382765,\n",
       "        816.81031231,  873.8042273 ,  934.77496078, 1000.        ]),\n",
       "        cv=10, scoring=&#x27;r2&#x27;)</pre><b>In a Jupyter environment, please rerun this cell to show the HTML representation or trust the notebook. <br />On GitHub, the HTML representation is unable to render, please try loading this page with nbviewer.org.</b></div><div class=\"sk-container\" hidden><div class=\"sk-item\"><div class=\"sk-estimator sk-toggleable\"><input class=\"sk-toggleable__control sk-hidden--visually\" id=\"sk-estimator-id-2\" type=\"checkbox\" checked><label for=\"sk-estimator-id-2\" class=\"sk-toggleable__label sk-toggleable__label-arrow\">RidgeCV</label><div class=\"sk-toggleable__content\"><pre>RidgeCV(alphas=array([   1.25892541,    1.34676844,    1.44074081,    1.54127022,\n",
       "          1.64881419,    1.76386217,    1.88693776,    2.0186011 ,\n",
       "          2.1594514 ,    2.3101297 ,    2.47132176,    2.64376119,\n",
       "          2.82823278,    3.0255761 ,    3.23668929,    3.46253315,\n",
       "          3.70413553,    3.96259601,    4.23909088,    4.53487851,\n",
       "          4.85130507,    5.18981068,    5.55193591,    5.93932887,\n",
       "          6.35375264,    6.79709332,    7.27136862,    7.77873705,\n",
       "          8.32150772,    8.90215085,    9....\n",
       "        161.84187792,  173.13458823,  185.21526088,  198.1388769 ,\n",
       "        211.96425366,  226.75431259,  242.57636554,  259.50242114,\n",
       "        277.60951248,  296.98004774,  317.70218523,  339.87023462,\n",
       "        363.58508612,  388.9546697 ,  416.09444628,  445.12793318,\n",
       "        476.1872663 ,  509.41380148,  544.95875783,  582.98390597,\n",
       "        623.66230422,  667.17908629,  713.7323038 ,  763.53382765,\n",
       "        816.81031231,  873.8042273 ,  934.77496078, 1000.        ]),\n",
       "        cv=10, scoring=&#x27;r2&#x27;)</pre></div></div></div></div></div>"
      ],
      "text/plain": [
       "RidgeCV(alphas=array([   1.25892541,    1.34676844,    1.44074081,    1.54127022,\n",
       "          1.64881419,    1.76386217,    1.88693776,    2.0186011 ,\n",
       "          2.1594514 ,    2.3101297 ,    2.47132176,    2.64376119,\n",
       "          2.82823278,    3.0255761 ,    3.23668929,    3.46253315,\n",
       "          3.70413553,    3.96259601,    4.23909088,    4.53487851,\n",
       "          4.85130507,    5.18981068,    5.55193591,    5.93932887,\n",
       "          6.35375264,    6.79709332,    7.27136862,    7.77873705,\n",
       "          8.32150772,    8.90215085,    9....\n",
       "        161.84187792,  173.13458823,  185.21526088,  198.1388769 ,\n",
       "        211.96425366,  226.75431259,  242.57636554,  259.50242114,\n",
       "        277.60951248,  296.98004774,  317.70218523,  339.87023462,\n",
       "        363.58508612,  388.9546697 ,  416.09444628,  445.12793318,\n",
       "        476.1872663 ,  509.41380148,  544.95875783,  582.98390597,\n",
       "        623.66230422,  667.17908629,  713.7323038 ,  763.53382765,\n",
       "        816.81031231,  873.8042273 ,  934.77496078, 1000.        ]),\n",
       "        cv=10, scoring='r2')"
      ]
     },
     "execution_count": 38,
     "metadata": {},
     "output_type": "execute_result"
    }
   ],
   "source": [
    "r_alphas = np.logspace(0.1, 3, 100)\n",
    "ridge_cv = RidgeCV(alphas = r_alphas, scoring='r2', cv = 10)\n",
    "ridge_cv.fit(X_train_ct, y_train)"
   ]
  },
  {
   "cell_type": "code",
   "execution_count": 39,
   "metadata": {},
   "outputs": [
    {
     "data": {
      "text/plain": [
       "296.980047740645"
      ]
     },
     "execution_count": 39,
     "metadata": {},
     "output_type": "execute_result"
    }
   ],
   "source": [
    "ridge_cv.alpha_"
   ]
  },
  {
   "cell_type": "code",
   "execution_count": 40,
   "metadata": {},
   "outputs": [
    {
     "name": "stdout",
     "output_type": "stream",
     "text": [
      "Training Ridge_cv_r2 = 0.7893261227297141\n",
      "Training Ridge_cv_r2 = 0.8200636599176777\n"
     ]
    }
   ],
   "source": [
    "coefs = ridge_cv.coef_\n",
    "print(f\"Training Ridge_cv_r2 = {ridge_cv.score(X_train_ct, y_train)}\")\n",
    "print(f\"Training Ridge_cv_r2 = {ridge_cv.score(X_test_ct, y_test)}\")"
   ]
  },
  {
   "attachments": {},
   "cell_type": "markdown",
   "metadata": {},
   "source": [
    "# LASSO Regression"
   ]
  },
  {
   "cell_type": "code",
   "execution_count": 41,
   "metadata": {},
   "outputs": [
    {
     "name": "stderr",
     "output_type": "stream",
     "text": [
      "/Users/ella/opt/anaconda3/envs/dsi/lib/python3.9/site-packages/sklearn/linear_model/_coordinate_descent.py:617: ConvergenceWarning: Objective did not converge. You might want to increase the number of iterations. Duality gap: 924.3186630322598, tolerance: 864.6110098275997\n",
      "  model = cd_fast.enet_coordinate_descent_gram(\n",
      "/Users/ella/opt/anaconda3/envs/dsi/lib/python3.9/site-packages/sklearn/linear_model/_coordinate_descent.py:617: ConvergenceWarning: Objective did not converge. You might want to increase the number of iterations. Duality gap: 998.09038835112, tolerance: 864.6110098275997\n",
      "  model = cd_fast.enet_coordinate_descent_gram(\n",
      "/Users/ella/opt/anaconda3/envs/dsi/lib/python3.9/site-packages/sklearn/linear_model/_coordinate_descent.py:617: ConvergenceWarning: Objective did not converge. You might want to increase the number of iterations. Duality gap: 1088.6097559561022, tolerance: 864.6110098275997\n",
      "  model = cd_fast.enet_coordinate_descent_gram(\n",
      "/Users/ella/opt/anaconda3/envs/dsi/lib/python3.9/site-packages/sklearn/linear_model/_coordinate_descent.py:617: ConvergenceWarning: Objective did not converge. You might want to increase the number of iterations. Duality gap: 943.3326860188972, tolerance: 865.5876147285144\n",
      "  model = cd_fast.enet_coordinate_descent_gram(\n",
      "/Users/ella/opt/anaconda3/envs/dsi/lib/python3.9/site-packages/sklearn/linear_model/_coordinate_descent.py:617: ConvergenceWarning: Objective did not converge. You might want to increase the number of iterations. Duality gap: 1007.8532917641569, tolerance: 865.5876147285144\n",
      "  model = cd_fast.enet_coordinate_descent_gram(\n",
      "/Users/ella/opt/anaconda3/envs/dsi/lib/python3.9/site-packages/sklearn/linear_model/_coordinate_descent.py:617: ConvergenceWarning: Objective did not converge. You might want to increase the number of iterations. Duality gap: 917.9860234428197, tolerance: 886.0484854150238\n",
      "  model = cd_fast.enet_coordinate_descent_gram(\n",
      "/Users/ella/opt/anaconda3/envs/dsi/lib/python3.9/site-packages/sklearn/linear_model/_coordinate_descent.py:617: ConvergenceWarning: Objective did not converge. You might want to increase the number of iterations. Duality gap: 991.6822888753377, tolerance: 886.0484854150238\n",
      "  model = cd_fast.enet_coordinate_descent_gram(\n",
      "/Users/ella/opt/anaconda3/envs/dsi/lib/python3.9/site-packages/sklearn/linear_model/_coordinate_descent.py:617: ConvergenceWarning: Objective did not converge. You might want to increase the number of iterations. Duality gap: 928.1068866667338, tolerance: 891.8353932926171\n",
      "  model = cd_fast.enet_coordinate_descent_gram(\n",
      "/Users/ella/opt/anaconda3/envs/dsi/lib/python3.9/site-packages/sklearn/linear_model/_coordinate_descent.py:617: ConvergenceWarning: Objective did not converge. You might want to increase the number of iterations. Duality gap: 994.97511620773, tolerance: 891.8353932926171\n",
      "  model = cd_fast.enet_coordinate_descent_gram(\n",
      "/Users/ella/opt/anaconda3/envs/dsi/lib/python3.9/site-packages/sklearn/linear_model/_coordinate_descent.py:617: ConvergenceWarning: Objective did not converge. You might want to increase the number of iterations. Duality gap: 894.2811461626552, tolerance: 891.8353932926171\n",
      "  model = cd_fast.enet_coordinate_descent_gram(\n",
      "/Users/ella/opt/anaconda3/envs/dsi/lib/python3.9/site-packages/sklearn/linear_model/_coordinate_descent.py:617: ConvergenceWarning: Objective did not converge. You might want to increase the number of iterations. Duality gap: 919.0290960529819, tolerance: 882.3873716203299\n",
      "  model = cd_fast.enet_coordinate_descent_gram(\n",
      "/Users/ella/opt/anaconda3/envs/dsi/lib/python3.9/site-packages/sklearn/linear_model/_coordinate_descent.py:617: ConvergenceWarning: Objective did not converge. You might want to increase the number of iterations. Duality gap: 991.5997933628969, tolerance: 882.3873716203299\n",
      "  model = cd_fast.enet_coordinate_descent_gram(\n",
      "/Users/ella/opt/anaconda3/envs/dsi/lib/python3.9/site-packages/sklearn/linear_model/_coordinate_descent.py:617: ConvergenceWarning: Objective did not converge. You might want to increase the number of iterations. Duality gap: 1077.611169778742, tolerance: 882.3873716203299\n",
      "  model = cd_fast.enet_coordinate_descent_gram(\n",
      "/Users/ella/opt/anaconda3/envs/dsi/lib/python3.9/site-packages/sklearn/linear_model/_coordinate_descent.py:617: ConvergenceWarning: Objective did not converge. You might want to increase the number of iterations. Duality gap: 1174.2713525244035, tolerance: 882.3873716203299\n",
      "  model = cd_fast.enet_coordinate_descent_gram(\n",
      "/Users/ella/opt/anaconda3/envs/dsi/lib/python3.9/site-packages/sklearn/linear_model/_coordinate_descent.py:617: ConvergenceWarning: Objective did not converge. You might want to increase the number of iterations. Duality gap: 961.5177073685918, tolerance: 904.2115880995877\n",
      "  model = cd_fast.enet_coordinate_descent_gram(\n",
      "/Users/ella/opt/anaconda3/envs/dsi/lib/python3.9/site-packages/sklearn/linear_model/_coordinate_descent.py:617: ConvergenceWarning: Objective did not converge. You might want to increase the number of iterations. Duality gap: 1032.2748785484582, tolerance: 904.2115880995877\n",
      "  model = cd_fast.enet_coordinate_descent_gram(\n",
      "/Users/ella/opt/anaconda3/envs/dsi/lib/python3.9/site-packages/sklearn/linear_model/_coordinate_descent.py:617: ConvergenceWarning: Objective did not converge. You might want to increase the number of iterations. Duality gap: 957.0467610901687, tolerance: 892.966802930688\n",
      "  model = cd_fast.enet_coordinate_descent_gram(\n",
      "/Users/ella/opt/anaconda3/envs/dsi/lib/python3.9/site-packages/sklearn/linear_model/_coordinate_descent.py:617: ConvergenceWarning: Objective did not converge. You might want to increase the number of iterations. Duality gap: 1033.8618031977676, tolerance: 892.966802930688\n",
      "  model = cd_fast.enet_coordinate_descent_gram(\n",
      "/Users/ella/opt/anaconda3/envs/dsi/lib/python3.9/site-packages/sklearn/linear_model/_coordinate_descent.py:617: ConvergenceWarning: Objective did not converge. You might want to increase the number of iterations. Duality gap: 951.409478637157, tolerance: 865.680619659495\n",
      "  model = cd_fast.enet_coordinate_descent_gram(\n",
      "/Users/ella/opt/anaconda3/envs/dsi/lib/python3.9/site-packages/sklearn/linear_model/_coordinate_descent.py:617: ConvergenceWarning: Objective did not converge. You might want to increase the number of iterations. Duality gap: 1013.9285720447078, tolerance: 865.680619659495\n",
      "  model = cd_fast.enet_coordinate_descent_gram(\n",
      "/Users/ella/opt/anaconda3/envs/dsi/lib/python3.9/site-packages/sklearn/linear_model/_coordinate_descent.py:631: ConvergenceWarning: Objective did not converge. You might want to increase the number of iterations, check the scale of the features or consider increasing regularisation. Duality gap: 1.316e+03, tolerance: 9.835e+02\n",
      "  model = cd_fast.enet_coordinate_descent(\n"
     ]
    },
    {
     "data": {
      "text/plain": [
       "0.14292726303604314"
      ]
     },
     "execution_count": 41,
     "metadata": {},
     "output_type": "execute_result"
    }
   ],
   "source": [
    "lasso_cv = LassoCV(cv =10)\n",
    "\n",
    "lasso_cv.fit(X_train_ct, y_train)\n",
    "lasso_cv.alpha_"
   ]
  },
  {
   "cell_type": "code",
   "execution_count": 42,
   "metadata": {},
   "outputs": [
    {
     "name": "stdout",
     "output_type": "stream",
     "text": [
      "Training Lasso_cv_r2 = 0.7877206972467033\n",
      "Testing Lasso_cv_r2 = 0.8217797758932959\n"
     ]
    }
   ],
   "source": [
    "print(f\"Training Lasso_cv_r2 = {lasso_cv.score(X_train_ct, y_train)}\")\n",
    "print(f\"Testing Lasso_cv_r2 = {lasso_cv.score(X_test_ct, y_test)}\")"
   ]
  },
  {
   "cell_type": "code",
   "execution_count": 19,
   "metadata": {},
   "outputs": [
    {
     "data": {
      "text/html": [
       "<div>\n",
       "<style scoped>\n",
       "    .dataframe tbody tr th:only-of-type {\n",
       "        vertical-align: middle;\n",
       "    }\n",
       "\n",
       "    .dataframe tbody tr th {\n",
       "        vertical-align: top;\n",
       "    }\n",
       "\n",
       "    .dataframe thead th {\n",
       "        text-align: right;\n",
       "    }\n",
       "</style>\n",
       "<table border=\"1\" class=\"dataframe\">\n",
       "  <thead>\n",
       "    <tr style=\"text-align: right;\">\n",
       "      <th></th>\n",
       "      <th>feature</th>\n",
       "      <th>coefficient</th>\n",
       "      <th>abs_coef</th>\n",
       "    </tr>\n",
       "  </thead>\n",
       "  <tbody>\n",
       "    <tr>\n",
       "      <th>31</th>\n",
       "      <td>normalized_gas_intensity Year.Built</td>\n",
       "      <td>4.362974</td>\n",
       "      <td>4.362974</td>\n",
       "    </tr>\n",
       "    <tr>\n",
       "      <th>32</th>\n",
       "      <td>normalized_gas_intensity energy_score</td>\n",
       "      <td>-3.910939</td>\n",
       "      <td>3.910939</td>\n",
       "    </tr>\n",
       "    <tr>\n",
       "      <th>52</th>\n",
       "      <td>energy_score Latitude</td>\n",
       "      <td>-3.599430</td>\n",
       "      <td>3.599430</td>\n",
       "    </tr>\n",
       "    <tr>\n",
       "      <th>37</th>\n",
       "      <td>normalized_gas_intensity Longitude</td>\n",
       "      <td>-3.524945</td>\n",
       "      <td>3.524945</td>\n",
       "    </tr>\n",
       "    <tr>\n",
       "      <th>2</th>\n",
       "      <td>normalized_gas_intensity</td>\n",
       "      <td>3.489273</td>\n",
       "      <td>3.489273</td>\n",
       "    </tr>\n",
       "  </tbody>\n",
       "</table>\n",
       "</div>"
      ],
      "text/plain": [
       "                                  feature  coefficient  abs_coef\n",
       "31    normalized_gas_intensity Year.Built     4.362974  4.362974\n",
       "32  normalized_gas_intensity energy_score    -3.910939  3.910939\n",
       "52                  energy_score Latitude    -3.599430  3.599430\n",
       "37     normalized_gas_intensity Longitude    -3.524945  3.524945\n",
       "2                normalized_gas_intensity     3.489273  3.489273"
      ]
     },
     "execution_count": 19,
     "metadata": {},
     "output_type": "execute_result"
    }
   ],
   "source": [
    "# Which features appear to add \n",
    "ridge_cv.coef_\n",
    "coef_df = pd.DataFrame({'feature': X_train_ct.columns, 'coefficient': ridge_cv.coef_})\n",
    "coef_df['abs_coef'] = np.abs(coef_df['coefficient'])\n",
    "coef_df.sort_values('abs_coef', ascending=False).head()\n",
    "#coef_df.loc[coef_df.feature == 'oh__number.of.energy.meters.cat_90', :]"
   ]
  },
  {
   "attachments": {},
   "cell_type": "markdown",
   "metadata": {},
   "source": [
    "# Random Forest Regression"
   ]
  },
  {
   "cell_type": "code",
   "execution_count": 20,
   "metadata": {},
   "outputs": [],
   "source": [
    "rf = RandomForestRegressor()\n",
    "et = ExtraTreesRegressor()"
   ]
  },
  {
   "cell_type": "code",
   "execution_count": 21,
   "metadata": {},
   "outputs": [
    {
     "name": "stdout",
     "output_type": "stream",
     "text": [
      "Training Random Forest_cv_r2 = 0.9047021386925345\n"
     ]
    }
   ],
   "source": [
    "print(f\"Training Random Forest_cv_r2 = {cross_val_score(rf, X_train_ct, y_train, cv=10).mean()}\")"
   ]
  },
  {
   "cell_type": "code",
   "execution_count": 22,
   "metadata": {},
   "outputs": [
    {
     "name": "stdout",
     "output_type": "stream",
     "text": [
      "Testing Random Forest_cv_r2 = 0.8693910050168817\n"
     ]
    }
   ],
   "source": [
    "print(f\"Testing Random Forest_cv_r2 = {cross_val_score(rf, X_test_ct, y_test, cv=10).mean()}\")"
   ]
  },
  {
   "cell_type": "code",
   "execution_count": 23,
   "metadata": {},
   "outputs": [
    {
     "name": "stdout",
     "output_type": "stream",
     "text": [
      "0.8960412206188809\n"
     ]
    },
    {
     "data": {
      "text/plain": [
       "{'max_depth': None, 'n_estimators': 300}"
      ]
     },
     "execution_count": 23,
     "metadata": {},
     "output_type": "execute_result"
    }
   ],
   "source": [
    "rf_params = {\n",
    "    'n_estimators': [250, 300, 350],\n",
    "    'max_depth': [None, 1, 2],\n",
    "}\n",
    "\n",
    "gs = GridSearchCV(rf, param_grid=rf_params, cv=2)\n",
    "gs.fit(X_train_ct, y_train)\n",
    "print(gs.best_score_)\n",
    "gs.best_params_"
   ]
  },
  {
   "cell_type": "code",
   "execution_count": 24,
   "metadata": {},
   "outputs": [
    {
     "data": {
      "text/plain": [
       "0.9871016675207015"
      ]
     },
     "execution_count": 24,
     "metadata": {},
     "output_type": "execute_result"
    }
   ],
   "source": [
    "gs.score(X_train_ct, y_train)"
   ]
  },
  {
   "cell_type": "code",
   "execution_count": 25,
   "metadata": {},
   "outputs": [
    {
     "data": {
      "text/plain": [
       "0.9473141818473141"
      ]
     },
     "execution_count": 25,
     "metadata": {},
     "output_type": "execute_result"
    }
   ],
   "source": [
    "gs.score(X_test_ct, y_test)"
   ]
  },
  {
   "cell_type": "code",
   "execution_count": 26,
   "metadata": {},
   "outputs": [
    {
     "data": {
      "text/plain": [
       "array([5.67739188e-04, 4.59253693e-04, 7.78543648e-03, 2.86517039e-04,\n",
       "       2.02838775e-03, 9.03950277e-04, 5.87672060e-05, 7.00746661e-03,\n",
       "       2.05664550e-06, 1.28523357e-03, 3.30893148e-03, 5.56970000e-04,\n",
       "       2.17586719e-03, 9.60286162e-04, 7.17589702e-04, 1.81533823e-02,\n",
       "       1.25964006e-03, 5.72621400e-04, 1.33949299e-06, 1.53715742e-03,\n",
       "       1.21400057e-03, 2.25253139e-03, 1.03518674e-03, 5.60468156e-04,\n",
       "       1.50203647e-02, 9.38367055e-04, 4.74692257e-04, 1.88063135e-06,\n",
       "       1.18075525e-03, 1.13549762e-03, 7.18535712e-03, 1.50212557e-01,\n",
       "       5.45470541e-03, 1.43021803e-02, 9.73028232e-02, 5.57793433e-07,\n",
       "       1.25095261e-02, 8.81595992e-02, 1.71635343e-03, 1.40374346e-03,\n",
       "       3.91844356e-04, 1.78616179e-03, 2.25224435e-06, 2.31947376e-03,\n",
       "       2.68341197e-03, 4.43586694e-01, 1.70157189e-03, 2.62744625e-03,\n",
       "       1.72525268e-06, 2.19078281e-03, 4.14707744e-03, 1.48246140e-03,\n",
       "       6.26008213e-03, 2.10044627e-06, 1.69160780e-02, 4.21214448e-02,\n",
       "       1.79414964e-03, 1.67539317e-06, 2.17684145e-03, 3.12835514e-03,\n",
       "       1.51844009e-06, 1.28730442e-03, 4.14775054e-03, 5.82445739e-06,\n",
       "       5.46344030e-06, 2.88759045e-03, 1.12328891e-04, 4.52864275e-04,\n",
       "       1.03940666e-04, 4.54835698e-05, 3.56066688e-04, 2.03465056e-04,\n",
       "       1.29623856e-03, 5.39435695e-06, 3.91091286e-04, 1.23570467e-05,\n",
       "       2.49435836e-04, 2.78486974e-04, 1.12061701e-07, 4.34158809e-04,\n",
       "       4.40096315e-05, 1.75785006e-04, 5.26916221e-05, 6.71279972e-05,\n",
       "       2.37947956e-05, 3.48343425e-04])"
      ]
     },
     "execution_count": 26,
     "metadata": {},
     "output_type": "execute_result"
    }
   ],
   "source": [
    "gs.best_estimator_.feature_importances_"
   ]
  },
  {
   "cell_type": "code",
   "execution_count": 30,
   "metadata": {},
   "outputs": [],
   "source": [
    "def plot_feature_importance(importance, names, model_type, num_features: int):\n",
    "\n",
    "    #Create a DataFrame using a Dictionary\n",
    "    feature_df = pd.DataFrame({\n",
    "        'feature_names':names,\n",
    "        'feature_importance':importance}\n",
    "    )\n",
    "\n",
    "    #Sort the DataFrame in order decreasing feature importance\n",
    "    feature_df = feature_df \\\n",
    "        .sort_values(by=['feature_importance'], ascending=False) \\\n",
    "        .iloc[:num_features,:]\n",
    "\n",
    "    #Define size of bar plot\n",
    "    plt.figure(figsize=(10,8))\n",
    "    \n",
    "    #Plot Searborn bar chart\n",
    "    sns.barplot(x=feature_df['feature_importance'], y=feature_df['feature_names'])\n",
    "    \n",
    "    #Add chart labels\n",
    "    plt.title(model_type + ' Feature Importance')\n",
    "    plt.xlabel('Feature Importance')\n",
    "    plt.ylabel('Feature Names')\n"
   ]
  },
  {
   "cell_type": "code",
   "execution_count": 31,
   "metadata": {},
   "outputs": [
    {
     "data": {
      "image/png": "[encoded data removed]",
      "text/plain": [
       "<Figure size 1000x800 with 1 Axes>"
      ]
     },
     "metadata": {},
     "output_type": "display_data"
    }
   ],
   "source": [
    "plot_feature_importance(gs.best_estimator_.feature_importances_,\n",
    "                        X_train_ct.columns, \"Random Forest\", 10)"
   ]
  },
  {
   "cell_type": "code",
   "execution_count": 43,
   "metadata": {},
   "outputs": [
    {
     "data": {
      "text/plain": [
       "(8624, 97)"
      ]
     },
     "execution_count": 43,
     "metadata": {},
     "output_type": "execute_result"
    }
   ],
   "source": [
    "X_train_ct.shape"
   ]
  },
  {
   "cell_type": "code",
   "execution_count": null,
   "metadata": {},
   "outputs": [],
   "source": []
  }
 ],
 "metadata": {
  "kernelspec": {
   "display_name": "dsi",
   "language": "python",
   "name": "python3"
  },
  "language_info": {
   "codemirror_mode": {
    "name": "ipython",
    "version": 3
   },
   "file_extension": ".py",
   "mimetype": "text/x-python",
   "name": "python",
   "nbconvert_exporter": "python",
   "pygments_lexer": "ipython3",
   "version": "3.9.13"
  },
  "orig_nbformat": 4,
  "vscode": {
   "interpreter": {
    "hash": "6e4ee545c5f92b906b67408868d5c4fa102e2be9ab37f5a84f119d93af15ade1"
   }
  }
 },
 "nbformat": 4,
 "nbformat_minor": 2
}
